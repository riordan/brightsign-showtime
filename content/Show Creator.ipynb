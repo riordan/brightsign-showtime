{
 "cells": [
  {
   "cell_type": "code",
   "execution_count": 1,
   "metadata": {
    "collapsed": false
   },
   "outputs": [],
   "source": [
    "import yaml\n",
    "from __future__ import print_function"
   ]
  },
  {
   "cell_type": "code",
   "execution_count": 2,
   "metadata": {
    "collapsed": true
   },
   "outputs": [],
   "source": [
    "y = yaml.load(open('wall.yaml'))"
   ]
  },
  {
   "cell_type": "code",
   "execution_count": 18,
   "metadata": {
    "collapsed": false
   },
   "outputs": [],
   "source": [
    "SCREENRESOLUTIONS = {\n",
    "    \"480p\": (720, 480),\n",
    "    \"576p\": (720, 576),\n",
    "    \"hd\": (1280, 720),\n",
    "    \"720p\": (1280, 720),\n",
    "    \"720i\": (1280, 720),\n",
    "    \"full hd\": (1920, 1080),\n",
    "    \"1080p\": (1920, 1080),\n",
    "    \"1080i\": (1920, 1080),\n",
    "    \"4k\": (3840, 2160),\n",
    "    \"8k\": (7680, 4320),\n",
    "    \"16k\": (15360, 8640)\n",
    "}"
   ]
  },
  {
   "cell_type": "code",
   "execution_count": 28,
   "metadata": {
    "collapsed": false
   },
   "outputs": [
    {
     "data": {
      "text/plain": [
       "\"Screen({'resolution_y': 768, 'resolution_x': 1366, 'name': '50', 'screenrotation': 0, 'description': '', 'screensize': '', 'syncgroup': -1})\""
      ]
     },
     "execution_count": 28,
     "metadata": {},
     "output_type": "execute_result"
    }
   ],
   "source": [
    "class Screen:\n",
    "    name = \"\"\n",
    "    screenrotation=-1\n",
    "    screensize = \"\"\n",
    "    screensize_x = -1\n",
    "    screensize_y = -1\n",
    "    resolution_x = -1\n",
    "    resolution_y = -1\n",
    "    syncgroup = -1\n",
    "    description = \"\"\n",
    "    \n",
    "    def __init__(self,\n",
    "                 name, # type: str\n",
    "                 screenrotation, # type: int\n",
    "                 screensize = '', # type: Optional[str]\n",
    "                 description = '', # type: Optional[str]\n",
    "                 syncgroup = -1, # type Optional[int]\n",
    "                 resolution = \"1366x768\" # type: Optional[str]\n",
    "                ):\n",
    "        # type: () -> Screen\n",
    "        \"Standard way to create a Mediawall Brightsign Screen from screen.yml\"\n",
    "        \n",
    "        self.name = str(name)\n",
    "        self.screenrotation = int(screenrotation)\n",
    "        self.description = description\n",
    "        self.syncgroup = int(syncgroup)\n",
    "        self.screensize = str(screensize)\n",
    "        if resolution.lower() in SCREENRESOLUTIONS:\n",
    "            self.resolution_x, self.resolution_y = SCREENRESOLUTIONS[resoultion.lower()]\n",
    "        else:\n",
    "            self.resolution_x, self.resolution_y = map(lambda x: int(x.strip()), resolution.split('x'))\n",
    "            \n",
    "    def __unicode__(self):\n",
    "        # type: () -> str\n",
    "        return \"%s(%r)\" % (\"Screen\", self.__dict__)\n",
    "    \n",
    "    def __str__(self):\n",
    "        # type: () -> str\n",
    "        return unicode(self).encode('utf-8')\n",
    "    \n",
    "Screen(\"50\", 0).__unicode__()"
   ]
  },
  {
   "cell_type": "code",
   "execution_count": null,
   "metadata": {
    "collapsed": false
   },
   "outputs": [],
   "source": []
  },
  {
   "cell_type": "code",
   "execution_count": 53,
   "metadata": {
    "collapsed": false
   },
   "outputs": [
    {
     "name": "stdout",
     "output_type": "stream",
     "text": [
      "<rss version=\"2.0\"><title>Brightsign RSS Feed Test<item><title>Brightsign Screen: 0</title><description>http://gurley-private.brown.columbia.edu/screen/50/media/0.jpg</description></item><item><title>Brightsign Screen: 1</title><description>http://gurley-private.brown.columbia.edu/screen/50/media/1.jpg</description></item><item><title>Brightsign Screen: 2</title><description>http://gurley-private.brown.columbia.edu/screen/50/media/2.jpg</description></item></title></rss>\n"
     ]
    }
   ],
   "source": [
    "import xml.etree.cElementTree as ET\n",
    "\n",
    "rss = ET.Element(\"rss\", version=\"2.0\")\n",
    "channel = ET.SubElement(rss, \"title\")\n",
    "channel.text=\"Brightsign RSS Feed Test\"\n",
    "\n",
    "for i in range(3):\n",
    "    item = ET.SubElement(channel, \"item\")    \n",
    "    title = ET.SubElement(item, \"title\")\n",
    "    title.text = \"Brightsign Screen: %s\" %(str(i))\n",
    "    description = ET.SubElement(item, \"description\")\n",
    "    description.text =\"http://gurley-private.brown.columbia.edu/screen/50/media/%s.jpg\" %(str(i))\n",
    "\n",
    "\n",
    "tree = ET.ElementTree(rss)\n",
    "ET.dump(rss)"
   ]
  },
  {
   "cell_type": "code",
   "execution_count": 34,
   "metadata": {
    "collapsed": false
   },
   "outputs": [
    {
     "name": "stdout",
     "output_type": "stream",
     "text": [
      "<rss version=\"2.0\" />"
     ]
    }
   ],
   "source": []
  },
  {
   "cell_type": "code",
   "execution_count": 45,
   "metadata": {
    "collapsed": false
   },
   "outputs": [
    {
     "name": "stdout",
     "output_type": "stream",
     "text": [
      "<a><b /><c><d /></c></a>\n"
     ]
    }
   ],
   "source": [
    ">>> a = ET.Element('a')\n",
    ">>> b = ET.SubElement(a, 'b')\n",
    ">>> c = ET.SubElement(a, 'c')\n",
    ">>> d = ET.SubElement(c, 'd')\n",
    ">>> ET.dump(a)"
   ]
  },
  {
   "cell_type": "code",
   "execution_count": 42,
   "metadata": {
    "collapsed": false
   },
   "outputs": [
    {
     "name": "stdout",
     "output_type": "stream",
     "text": [
      "<rss version=\"2.0\"><title>Brightsign RSS Feed Test</title></rss>"
     ]
    }
   ],
   "source": [
    "!cat test.xml"
   ]
  },
  {
   "cell_type": "code",
   "execution_count": null,
   "metadata": {
    "collapsed": true
   },
   "outputs": [],
   "source": []
  }
 ],
 "metadata": {
  "kernelspec": {
   "display_name": "Python 2",
   "language": "python",
   "name": "python2"
  },
  "language_info": {
   "codemirror_mode": {
    "name": "ipython",
    "version": 2
   },
   "file_extension": ".py",
   "mimetype": "text/x-python",
   "name": "python",
   "nbconvert_exporter": "python",
   "pygments_lexer": "ipython2",
   "version": "2.7.12"
  }
 },
 "nbformat": 4,
 "nbformat_minor": 0
}
