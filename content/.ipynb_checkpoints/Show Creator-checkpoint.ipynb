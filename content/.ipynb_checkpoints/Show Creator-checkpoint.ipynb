{
 "cells": [
  {
   "cell_type": "code",
   "execution_count": 1,
   "metadata": {
    "collapsed": false
   },
   "outputs": [],
   "source": [
    "import yaml\n",
    "from __future__ import print_function"
   ]
  },
  {
   "cell_type": "code",
   "execution_count": 2,
   "metadata": {
    "collapsed": true
   },
   "outputs": [],
   "source": [
    "y = yaml.load(open('wall.yaml'))"
   ]
  },
  {
   "cell_type": "code",
   "execution_count": 18,
   "metadata": {
    "collapsed": false
   },
   "outputs": [],
   "source": [
    "SCREENRESOLUTIONS = {\n",
    "    \"480p\": (720, 480),\n",
    "    \"576p\": (720, 576),\n",
    "    \"hd\": (1280, 720),\n",
    "    \"720p\": (1280, 720),\n",
    "    \"720i\": (1280, 720),\n",
    "    \"full hd\": (1920, 1080),\n",
    "    \"1080p\": (1920, 1080),\n",
    "    \"1080i\": (1920, 1080),\n",
    "    \"4k\": (3840, 2160),\n",
    "    \"8k\": (7680, 4320),\n",
    "    \"16k\": (15360, 8640)\n",
    "}"
   ]
  },
  {
   "cell_type": "code",
   "execution_count": 22,
   "metadata": {
    "collapsed": false
   },
   "outputs": [
    {
     "ename": "ValueError",
     "evalue": "need more than 1 value to unpack",
     "output_type": "error",
     "traceback": [
      "\u001b[1;31m---------------------------------------------------------------------------\u001b[0m",
      "\u001b[1;31mValueError\u001b[0m                                Traceback (most recent call last)",
      "\u001b[1;32m<ipython-input-22-cc03c92a9c81>\u001b[0m in \u001b[0;36m<module>\u001b[1;34m()\u001b[0m\n\u001b[0;32m     33\u001b[0m \u001b[1;33m\u001b[0m\u001b[0m\n\u001b[0;32m     34\u001b[0m \u001b[1;33m\u001b[0m\u001b[0m\n\u001b[1;32m---> 35\u001b[1;33m \u001b[0ms\u001b[0m \u001b[1;33m=\u001b[0m \u001b[0mScreen\u001b[0m\u001b[1;33m(\u001b[0m\u001b[1;34m\"50\"\u001b[0m\u001b[1;33m,\u001b[0m \u001b[1;36m90\u001b[0m\u001b[1;33m,\u001b[0m \u001b[1;34m\"10\"\u001b[0m\u001b[1;33m,\u001b[0m \u001b[0mresolution\u001b[0m\u001b[1;33m=\u001b[0m\u001b[1;34m\"10\"\u001b[0m\u001b[1;33m)\u001b[0m\u001b[1;33m\u001b[0m\u001b[0m\n\u001b[0m",
      "\u001b[1;32m<ipython-input-22-cc03c92a9c81>\u001b[0m in \u001b[0;36m__init__\u001b[1;34m(self, name, screenrotation, screensize, description, syncgroup, resolution)\u001b[0m\n\u001b[0;32m     29\u001b[0m             \u001b[0mself\u001b[0m\u001b[1;33m.\u001b[0m\u001b[0mresolution_x\u001b[0m\u001b[1;33m,\u001b[0m \u001b[0mself\u001b[0m\u001b[1;33m.\u001b[0m\u001b[0mresolution_y\u001b[0m \u001b[1;33m=\u001b[0m \u001b[0mSCREENRESOLUTIONS\u001b[0m\u001b[1;33m[\u001b[0m\u001b[0mresoultion\u001b[0m\u001b[1;33m.\u001b[0m\u001b[0mlower\u001b[0m\u001b[1;33m(\u001b[0m\u001b[1;33m)\u001b[0m\u001b[1;33m]\u001b[0m\u001b[1;33m\u001b[0m\u001b[0m\n\u001b[0;32m     30\u001b[0m         \u001b[1;32melse\u001b[0m\u001b[1;33m:\u001b[0m\u001b[1;33m\u001b[0m\u001b[0m\n\u001b[1;32m---> 31\u001b[1;33m             \u001b[0mself\u001b[0m\u001b[1;33m.\u001b[0m\u001b[0mresolution_x\u001b[0m\u001b[1;33m,\u001b[0m \u001b[0mself\u001b[0m\u001b[1;33m.\u001b[0m\u001b[0mresolution_y\u001b[0m \u001b[1;33m=\u001b[0m \u001b[0mmap\u001b[0m\u001b[1;33m(\u001b[0m\u001b[1;32mlambda\u001b[0m \u001b[0mx\u001b[0m\u001b[1;33m:\u001b[0m \u001b[0mint\u001b[0m\u001b[1;33m(\u001b[0m\u001b[0mx\u001b[0m\u001b[1;33m.\u001b[0m\u001b[0mstrip\u001b[0m\u001b[1;33m(\u001b[0m\u001b[1;33m)\u001b[0m\u001b[1;33m)\u001b[0m\u001b[1;33m,\u001b[0m \u001b[0mresolution\u001b[0m\u001b[1;33m.\u001b[0m\u001b[0msplit\u001b[0m\u001b[1;33m(\u001b[0m\u001b[1;34m'x'\u001b[0m\u001b[1;33m)\u001b[0m\u001b[1;33m)\u001b[0m\u001b[1;33m\u001b[0m\u001b[0m\n\u001b[0m\u001b[0;32m     32\u001b[0m \u001b[1;33m\u001b[0m\u001b[0m\n\u001b[0;32m     33\u001b[0m \u001b[1;33m\u001b[0m\u001b[0m\n",
      "\u001b[1;31mValueError\u001b[0m: need more than 1 value to unpack"
     ]
    }
   ],
   "source": [
    "class Screen:\n",
    "    name = \"\"\n",
    "    screenrotation=-1\n",
    "    screensize = \"\"\n",
    "    screensize_x = -1\n",
    "    screensize_y = -1\n",
    "    resolution_x = -1\n",
    "    resolution_y = -1\n",
    "    syncgroup = -1\n",
    "    description = \"\"\n",
    "    \n",
    "    def __init__(self,\n",
    "                 name, # type: str\n",
    "                 screenrotation, # type: int\n",
    "                 screensize = '', # type: Optional[str]\n",
    "                 description = '', # type: Optional[str]\n",
    "                 syncgroup = -1, # type Optional[int]\n",
    "                 resolution = \"1366×768\" # type: Optional[str]\n",
    "                ):\n",
    "        # type: () -> Screen\n",
    "        \"Create a Mediawall Brightsign Screen\"\n",
    "        \n",
    "        self.name = str(name)\n",
    "        self.screenrotation = int(screenrotation)\n",
    "        self.description = description\n",
    "        self.syncgroup = int(syncgroup)\n",
    "        self.screensize = str(screensize)\n",
    "        if resolution.lower() in SCREENRESOLUTIONS:\n",
    "            self.resolution_x, self.resolution_y = SCREENRESOLUTIONS[resoultion.lower()]\n",
    "        else:\n",
    "            self.resolution_x, self.resolution_y = map(lambda x: int(x.strip()), resolution.split('x'))\n",
    "            \n",
    "    \n",
    "    \n",
    "    def __str__(self):\n",
    "        # type: () -> str\n",
    "        return unicode(self).encode('utf-8')"
   ]
  },
  {
   "cell_type": "code",
   "execution_count": 20,
   "metadata": {
    "collapsed": false
   },
   "outputs": [
    {
     "data": {
      "text/plain": [
       "True"
      ]
     },
     "execution_count": 20,
     "metadata": {},
     "output_type": "execute_result"
    }
   ],
   "source": [
    "\"1080p\".lower() in SCREENRESOLUTIONS"
   ]
  },
  {
   "cell_type": "code",
   "execution_count": 5,
   "metadata": {
    "collapsed": false
   },
   "outputs": [
    {
     "name": "stdout",
     "output_type": "stream",
     "text": [
      "setup:\r\n",
      "    protocol: sftp\r\n",
      "    server: gurley.brown.columbia.edu\r\n",
      "    user: mediawall\r\n",
      "    pass: tktk\r\n",
      "    port: 2222\r\n",
      "    basepath: /mediawall/screen/\r\n",
      "    feed: $id/feed.xml\r\n",
      "frames:\r\n",
      "  inside:\r\n",
      "      - id: 50 # Device ID\r\n",
      "        screen-size: 42 # String to describe screen size. This will become dimensions soon\r\n",
      "        resolution: 1920x1080 # DEFAULT: 1366\t×\t768 String to describe screen resolution\r\n",
      "        screen-rotation: 90 # DEFAULT 0 describes rotation of screen. 4 valid options [landscape, landscape-top, portrait-left, portrait-right] Directions are to describe positioning of the BOTTOM of the screen\r\n",
      "        media-filepath:\r\n",
      "        sync-group: -1 # DEFAULT: -1 Integer for which sync group it should be a part of. -1 means no sync group\r\n",
      "        description: >\r\n",
      "                        Inside tallscreen. Usually used to display posters and immediately relevant data. Much of the time\r\n",
      "                        it operates independent of the rest of the screens.\r\n",
      "\r\n",
      "      - id: 30\r\n",
      "        screen-size: 12\r\n",
      "        screen-rotation: 90\r\n",
      "\r\n",
      "      - id: 31\r\n",
      "        screen-size: 8\r\n",
      "        screen-rotation: 0\r\n",
      "\r\n",
      "      - id: 32\r\n",
      "        screen-size: 8\r\n",
      "        screen-rotation: 8\r\n",
      "\r\n",
      "      - id: 33\r\n",
      "        screen-size: 10\r\n",
      "        screen-rotation: 90\r\n",
      "\r\n",
      "      - id: 34\r\n",
      "        screen-size: 15\r\n",
      "        screen-rotation: 0\r\n",
      "\r\n",
      "      - id: 35\r\n",
      "        screen-size: 10\r\n",
      "        screen-rotation: 0\r\n",
      "\r\n",
      "      - id: 36\r\n",
      "        screen-size: 8\r\n",
      "        screen-rotation: 270\r\n",
      "\r\n",
      "      - id: 37\r\n",
      "        screen-size: 12\r\n",
      "        screen-rotation: 0\r\n",
      "\r\n",
      "      - id: 38\r\n",
      "        screen-size: 12\r\n",
      "        screen-rotation: 0\r\n",
      "\r\n",
      "      - id: 39\r\n",
      "        screen-size: 8\r\n",
      "        screen-rotation: 0\r\n",
      "\r\n",
      "      - id: 40\r\n",
      "        screen-size: 15\r\n",
      "        screen-rotation: 0\r\n",
      "\r\n",
      "      - id: 41\r\n",
      "        screen-size: 8\r\n",
      "        screen-rotation: 0\r\n",
      "\r\n",
      "      - id: 42\r\n",
      "        screen-size: 10\r\n",
      "        screen-rotation: 0\r\n",
      "\r\n",
      "      - id: 43\r\n",
      "        screen-size: 8\r\n",
      "        screen-rotation: 0\r\n",
      "\r\n",
      "      - id: 44\r\n",
      "        screen-size: 10\r\n",
      "        screen-rotation: 0\r\n",
      "\r\n",
      "      - id: 45\r\n",
      "        screen-size: 12\r\n",
      "        screen-rotation: 90\r\n",
      "\r\n",
      "      - id: 46\r\n",
      "        screen-size: 8\r\n",
      "        screen-rotation: 270\r\n",
      "\r\n",
      "      - id: 47\r\n",
      "        screen-size: 15\r\n",
      "        screen-rotation: 0\r\n",
      "\r\n",
      "      - id: 48\r\n",
      "        screen-size: 10\r\n",
      "        screen-rotation: 0\r\n",
      "\r\n",
      "      - id: 49\r\n",
      "        screen-size: 8\r\n",
      "        screen-rotation: 270\r\n"
     ]
    }
   ],
   "source": [
    "!cat wall.yaml"
   ]
  },
  {
   "cell_type": "code",
   "execution_count": null,
   "metadata": {
    "collapsed": true
   },
   "outputs": [],
   "source": []
  }
 ],
 "metadata": {
  "kernelspec": {
   "display_name": "Python 2",
   "language": "python",
   "name": "python2"
  },
  "language_info": {
   "codemirror_mode": {
    "name": "ipython",
    "version": 2
   },
   "file_extension": ".py",
   "mimetype": "text/x-python",
   "name": "python",
   "nbconvert_exporter": "python",
   "pygments_lexer": "ipython2",
   "version": "2.7.12"
  }
 },
 "nbformat": 4,
 "nbformat_minor": 0
}
