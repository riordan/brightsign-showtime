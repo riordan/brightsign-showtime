{
 "cells": [
  {
   "cell_type": "code",
   "execution_count": 8,
   "metadata": {
    "collapsed": false
   },
   "outputs": [],
   "source": [
    "import yaml\n",
    "from __future__ import print_function"
   ]
  },
  {
   "cell_type": "code",
   "execution_count": 13,
   "metadata": {
    "collapsed": true
   },
   "outputs": [],
   "source": [
    "y = yaml.load(open('wall.yaml'))"
   ]
  },
  {
   "cell_type": "code",
   "execution_count": 16,
   "metadata": {
    "collapsed": false
   },
   "outputs": [
    {
     "data": {
      "text/plain": [
       "[{'description': 'Inside tallscreen. Usually used to display posters and immediately relevant data. Much of the time it operates independent of the rest of the screens.\\n',\n",
       "  'id': 50,\n",
       "  'media-filepath': None,\n",
       "  'resolution': '1920x1080',\n",
       "  'screen-rotation': 90,\n",
       "  'screen-size': 42,\n",
       "  'sync-group': -1},\n",
       " {'id': 30, 'screen-rotation': 90, 'screen-size': 12},\n",
       " {'id': 31, 'screen-rotation': 0, 'screen-size': 8},\n",
       " {'id': 32, 'screen-rotation': 8, 'screen-size': 8},\n",
       " {'id': 33, 'screen-rotation': 90, 'screen-size': 10},\n",
       " {'id': 34, 'screen-rotation': 0, 'screen-size': 15},\n",
       " {'id': 35, 'screen-rotation': 0, 'screen-size': 10},\n",
       " {'id': 36, 'screen-rotation': 270, 'screen-size': 8},\n",
       " {'id': 37, 'screen-rotation': 0, 'screen-size': 12},\n",
       " {'id': 38, 'screen-rotation': 0, 'screen-size': 12},\n",
       " {'id': 39, 'screen-rotation': 0, 'screen-size': 8},\n",
       " {'id': 40, 'screen-rotation': 0, 'screen-size': 15},\n",
       " {'id': 41, 'screen-rotation': 0, 'screen-size': 8},\n",
       " {'id': 42, 'screen-rotation': 0, 'screen-size': 10},\n",
       " {'id': 43, 'screen-rotation': 0, 'screen-size': 8},\n",
       " {'id': 44, 'screen-rotation': 0, 'screen-size': 10},\n",
       " {'id': 45, 'screen-rotation': 90, 'screen-size': 12},\n",
       " {'id': 46, 'screen-rotation': 270, 'screen-size': 8},\n",
       " {'id': 47, 'screen-rotation': 0, 'screen-size': 15},\n",
       " {'id': 48, 'screen-rotation': 0, 'screen-size': 10},\n",
       " {'id': 49, 'screen-rotation': 270, 'screen-size': 8}]"
      ]
     },
     "execution_count": 16,
     "metadata": {},
     "output_type": "execute_result"
    }
   ],
   "source": [
    "y['frames']['inside']"
   ]
  },
  {
   "cell_type": "code",
   "execution_count": null,
   "metadata": {
    "collapsed": true
   },
   "outputs": [],
   "source": []
  }
 ],
 "metadata": {
  "kernelspec": {
   "display_name": "Python 2",
   "language": "python",
   "name": "python2"
  },
  "language_info": {
   "codemirror_mode": {
    "name": "ipython",
    "version": 2
   },
   "file_extension": ".py",
   "mimetype": "text/x-python",
   "name": "python",
   "nbconvert_exporter": "python",
   "pygments_lexer": "ipython2",
   "version": "2.7.12"
  }
 },
 "nbformat": 4,
 "nbformat_minor": 0
}
